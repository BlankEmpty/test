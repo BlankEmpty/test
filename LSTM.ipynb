{
 "cells": [
  {
   "cell_type": "markdown",
   "metadata": {},
   "source": [
    " # LSTM"
   ]
  },
  {
   "cell_type": "code",
   "execution_count": 1,
   "metadata": {},
   "outputs": [
    {
     "name": "stderr",
     "output_type": "stream",
     "text": [
      "C:\\Program Files (x86)\\Microsoft Visual Studio\\Shared\\Anaconda3_64\\lib\\site-packages\\h5py\\__init__.py:34: FutureWarning: Conversion of the second argument of issubdtype from `float` to `np.floating` is deprecated. In future, it will be treated as `np.float64 == np.dtype(float).type`.\n",
      "  from ._conv import register_converters as _register_converters\n",
      "Using TensorFlow backend.\n"
     ]
    }
   ],
   "source": [
    "import pandas as pd\n",
    "import numpy as np\n",
    "from keras.models import Sequential\n",
    "from keras.layers import Dense, Dropout, Activation, Flatten, LSTM, TimeDistributed, RepeatVector\n",
    "from keras.layers.normalization import BatchNormalization\n",
    "from keras.optimizers import Adam\n",
    "from keras.callbacks import EarlyStopping, ModelCheckpoint\n",
    "import matplotlib.pyplot as plt\n",
    "from keras import losses\n",
    "%matplotlib inline"
   ]
  },
  {
   "cell_type": "code",
   "execution_count": 2,
   "metadata": {
    "collapsed": true
   },
   "outputs": [],
   "source": [
    "def read_data():\n",
    "    # [40, 7500, 4, 1]\n",
    "    import os\n",
    "    files = os.listdir('train')\n",
    "    all_list = []\n",
    "    label = []\n",
    "    for file in files:\n",
    "        train = pd.read_excel('./train/' + file, encoding='utf8', header=None)\n",
    "        # 加工品質量測結果:0.306\n",
    "        label.append(train.get_values()[-1][0].split(':')[1])        \n",
    "        \n",
    "        train = np.array(train.drop(7500, axis=0))\n",
    "        all_list.append(train)\n",
    "        \n",
    "    return np.array(all_list), np.array(label)"
   ]
  },
  {
   "cell_type": "code",
   "execution_count": 3,
   "metadata": {
    "collapsed": true
   },
   "outputs": [],
   "source": [
    "def build_train_data(train, label, pastDay=7500, futureDay=1):\n",
    "    assert train.shape[0] == label.shape[0]\n",
    "    \n",
    "    X_train, Y_train = [], []\n",
    "    for i in range(train.shape[0] - pastDay - futureDay):\n",
    "        X_train.append(train[i: i + pastDay])\n",
    "        Y_train.append(label[i + pastDay: i + pastDay + futureDay])\n",
    "    \n",
    "    return np.array(X_train), np.array(Y_train)        "
   ]
  },
  {
   "cell_type": "code",
   "execution_count": 4,
   "metadata": {
    "collapsed": true
   },
   "outputs": [],
   "source": [
    "def shuffle(X, Y):\n",
    "    np.random.seed(1)\n",
    "    randomList = np.arange(X.shape[0])\n",
    "    np.random.shuffle(randomList)\n",
    "    return X[randomList], Y[randomList]"
   ]
  },
  {
   "cell_type": "code",
   "execution_count": 5,
   "metadata": {
    "collapsed": true
   },
   "outputs": [],
   "source": [
    "# Split some training data to validation data\n",
    "def splitData(X, Y, rate):\n",
    "    \n",
    "    X_train = X[int(X.shape[0] * rate): ]\n",
    "    Y_train = Y[int(Y.shape[0] * rate): ]\n",
    "    X_val = X[:int(X.shape[0] * rate)]\n",
    "    Y_val = Y[:int(Y.shape[0] * rate)]\n",
    "    \n",
    "    return X_train, Y_train, X_val, Y_val"
   ]
  },
  {
   "cell_type": "code",
   "execution_count": 6,
   "metadata": {
    "collapsed": true
   },
   "outputs": [],
   "source": [
    "def build_LSTM_model(shape):\n",
    "    model = Sequential()\n",
    "    model.add(LSTM(10, input_shape=(7500, 4), return_sequences=False))\n",
    "    \n",
    "    model.add(Dense(1))\n",
    "    model.compile(loss=losses.mean_squared_error, optimizer=\"adam\")\n",
    "    model.summary()\n",
    "    return model"
   ]
  },
  {
   "cell_type": "code",
   "execution_count": 7,
   "metadata": {
    "scrolled": true
   },
   "outputs": [
    {
     "name": "stdout",
     "output_type": "stream",
     "text": [
      "WARNING:tensorflow:From C:\\Program Files (x86)\\Microsoft Visual Studio\\Shared\\Anaconda3_64\\lib\\site-packages\\keras\\backend\\tensorflow_backend.py:1238: calling reduce_sum (from tensorflow.python.ops.math_ops) with keep_dims is deprecated and will be removed in a future version.\n",
      "Instructions for updating:\n",
      "keep_dims is deprecated, use keepdims instead\n",
      "WARNING:tensorflow:From C:\\Program Files (x86)\\Microsoft Visual Studio\\Shared\\Anaconda3_64\\lib\\site-packages\\keras\\backend\\tensorflow_backend.py:1340: calling reduce_mean (from tensorflow.python.ops.math_ops) with keep_dims is deprecated and will be removed in a future version.\n",
      "Instructions for updating:\n",
      "keep_dims is deprecated, use keepdims instead\n",
      "Train on 28 samples, validate on 12 samples\n",
      "Epoch 1/50\n",
      "28/28 [==============================] - 46s 2s/step - loss: 0.6054 - val_loss: 0.4582\n",
      "Epoch 2/50\n",
      "28/28 [==============================] - 44s 2s/step - loss: 0.5339 - val_loss: 0.3415\n",
      "Epoch 3/50\n",
      "28/28 [==============================] - 44s 2s/step - loss: 0.3511 - val_loss: 0.1123\n",
      "Epoch 4/50\n",
      "28/28 [==============================] - 44s 2s/step - loss: 0.1938 - val_loss: 0.1281\n",
      "Epoch 5/50\n",
      "28/28 [==============================] - 45s 2s/step - loss: 0.1862 - val_loss: 0.0987\n",
      "Epoch 6/50\n",
      "28/28 [==============================] - 45s 2s/step - loss: 0.2024 - val_loss: 0.1215\n",
      "Epoch 7/50\n",
      "28/28 [==============================] - 45s 2s/step - loss: 0.1817 - val_loss: 0.1872\n",
      "Epoch 8/50\n",
      "28/28 [==============================] - 45s 2s/step - loss: 0.1697 - val_loss: 0.1333\n",
      "Epoch 9/50\n",
      "28/28 [==============================] - 45s 2s/step - loss: 0.1729 - val_loss: 0.1112\n",
      "Epoch 10/50\n",
      "28/28 [==============================] - 45s 2s/step - loss: 0.1802 - val_loss: 0.1297\n",
      "Epoch 11/50\n",
      "28/28 [==============================] - 45s 2s/step - loss: 0.1724 - val_loss: 0.1292\n",
      "Epoch 12/50\n",
      "28/28 [==============================] - 46s 2s/step - loss: 0.1722 - val_loss: 0.1180\n",
      "Epoch 13/50\n",
      "28/28 [==============================] - 46s 2s/step - loss: 0.1770 - val_loss: 0.1375\n",
      "Epoch 14/50\n",
      "28/28 [==============================] - 46s 2s/step - loss: 0.1724 - val_loss: 0.1347\n",
      "Epoch 15/50\n",
      "28/28 [==============================] - 46s 2s/step - loss: 0.1716 - val_loss: 0.1215\n",
      "Epoch 16/50\n",
      "28/28 [==============================] - 46s 2s/step - loss: 0.1742 - val_loss: 0.1266\n",
      "Epoch 17/50\n",
      "28/28 [==============================] - 46s 2s/step - loss: 0.1729 - val_loss: 0.1257\n",
      "Epoch 18/50\n",
      "28/28 [==============================] - 45s 2s/step - loss: 0.1728 - val_loss: 0.1216\n",
      "Epoch 19/50\n",
      "28/28 [==============================] - 48s 2s/step - loss: 0.1744 - val_loss: 0.1311\n",
      "Epoch 20/50\n",
      "28/28 [==============================] - 48s 2s/step - loss: 0.1713 - val_loss: 0.1237\n",
      "Epoch 21/50\n",
      "28/28 [==============================] - 47s 2s/step - loss: 0.1733 - val_loss: 0.1250\n",
      "Epoch 22/50\n",
      "28/28 [==============================] - 47s 2s/step - loss: 0.1729 - val_loss: 0.1222\n",
      "Epoch 23/50\n",
      "28/28 [==============================] - 47s 2s/step - loss: 0.1743 - val_loss: 0.1324\n",
      "Epoch 24/50\n",
      "28/28 [==============================] - 47s 2s/step - loss: 0.1713 - val_loss: 0.1254\n",
      "Epoch 25/50\n",
      "28/28 [==============================] - 47s 2s/step - loss: 0.1733 - val_loss: 0.1176\n",
      "Epoch 26/50\n",
      "28/28 [==============================] - 48s 2s/step - loss: 0.1756 - val_loss: 0.1335\n",
      "Epoch 27/50\n",
      "28/28 [==============================] - 48s 2s/step - loss: 0.1718 - val_loss: 0.1294\n",
      "Epoch 28/50\n",
      "28/28 [==============================] - 46s 2s/step - loss: 0.1718 - val_loss: 0.1176\n",
      "Epoch 29/50\n",
      "28/28 [==============================] - 46s 2s/step - loss: 0.1766 - val_loss: 0.1344\n",
      "Epoch 30/50\n",
      "28/28 [==============================] - 47s 2s/step - loss: 0.1720 - val_loss: 0.1324\n",
      "Epoch 31/50\n",
      "28/28 [==============================] - 47s 2s/step - loss: 0.1715 - val_loss: 0.1216\n",
      "Epoch 32/50\n",
      "28/28 [==============================] - 46s 2s/step - loss: 0.1738 - val_loss: 0.1270\n",
      "Epoch 33/50\n",
      "28/28 [==============================] - 45s 2s/step - loss: 0.1726 - val_loss: 0.1268\n",
      "Epoch 34/50\n",
      "28/28 [==============================] - 47s 2s/step - loss: 0.1724 - val_loss: 0.1237\n",
      "Epoch 35/50\n",
      "28/28 [==============================] - 46s 2s/step - loss: 0.1735 - val_loss: 0.1334\n",
      "Epoch 36/50\n",
      "28/28 [==============================] - 47s 2s/step - loss: 0.1712 - val_loss: 0.1269\n",
      "Epoch 37/50\n",
      "28/28 [==============================] - 46s 2s/step - loss: 0.1725 - val_loss: 0.1200\n",
      "Epoch 38/50\n",
      "28/28 [==============================] - 47s 2s/step - loss: 0.1747 - val_loss: 0.1362\n",
      "Epoch 39/50\n",
      "28/28 [==============================] - 47s 2s/step - loss: 0.1716 - val_loss: 0.1321\n",
      "Epoch 40/50\n",
      "28/28 [==============================] - 46s 2s/step - loss: 0.1713 - val_loss: 0.1213\n",
      "Epoch 41/50\n",
      "28/28 [==============================] - 47s 2s/step - loss: 0.1736 - val_loss: 0.1262\n",
      "Epoch 42/50\n",
      "28/28 [==============================] - 46s 2s/step - loss: 0.1724 - val_loss: 0.1261\n",
      "Epoch 43/50\n",
      "28/28 [==============================] - 46s 2s/step - loss: 0.1723 - val_loss: 0.1235\n",
      "Epoch 44/50\n",
      "28/28 [==============================] - 47s 2s/step - loss: 0.1733 - val_loss: 0.1328\n",
      "Epoch 45/50\n",
      "28/28 [==============================] - 47s 2s/step - loss: 0.1711 - val_loss: 0.1272\n",
      "Epoch 46/50\n",
      "28/28 [==============================] - 46s 2s/step - loss: 0.1722 - val_loss: 0.1210\n",
      "Epoch 47/50\n",
      "28/28 [==============================] - 47s 2s/step - loss: 0.1729 - val_loss: 0.1286\n",
      "Epoch 48/50\n",
      "28/28 [==============================] - 47s 2s/step - loss: 0.1718 - val_loss: 0.1244\n",
      "Epoch 49/50\n",
      "28/28 [==============================] - 47s 2s/step - loss: 0.1722 - val_loss: 0.1199\n",
      "Epoch 50/50\n",
      "28/28 [==============================] - 46s 2s/step - loss: 0.1740 - val_loss: 0.1276\n"
     ]
    }
   ],
   "source": [
    "from keras.layers import LSTM\n",
    "\n",
    "train, label = read_data()\n",
    "X_train, Y_train, X_val, Y_val = splitData(train, label, 0.3)\n",
    "\n",
    "model = Sequential()\n",
    "model.add(LSTM(50, input_shape=(X_train.shape[1], X_train.shape[2])))\n",
    "model.add(Dense(1))\n",
    "model.compile(loss='mae', optimizer='adam')\n",
    "\n",
    "history = model.fit(X_train, Y_train, epochs=50, batch_size=5, validation_data=(X_val, Y_val), verbose=1, shuffle=False)"
   ]
  },
  {
   "cell_type": "code",
   "execution_count": 8,
   "metadata": {},
   "outputs": [
    {
     "data": {
      "image/png": "[encoded data removed]",
      "text/plain": [
       "<matplotlib.figure.Figure at 0x26fd67d3d30>"
      ]
     },
     "metadata": {},
     "output_type": "display_data"
    }
   ],
   "source": [
    "plt.plot(history.history['loss'])\n",
    "plt.plot(history.history['val_loss'])\n",
    "plt.title('Train History')\n",
    "# plt.ylabel(train)\n",
    "plt.xlabel('Epoch')\n",
    "plt.legend(['train', 'validation'], loc='upper left')\n",
    "plt.show()"
   ]
  }
 ],
 "metadata": {
  "kernelspec": {
   "display_name": "Python 3",
   "language": "python",
   "name": "python3"
  },
  "language_info": {
   "codemirror_mode": {
    "name": "ipython",
    "version": 3
   },
   "file_extension": ".py",
   "mimetype": "text/x-python",
   "name": "python",
   "nbconvert_exporter": "python",
   "pygments_lexer": "ipython3",
   "version": "3.6.2"
  }
 },
 "nbformat": 4,
 "nbformat_minor": 2
}
